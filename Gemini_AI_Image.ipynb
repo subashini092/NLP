{
  "nbformat": 4,
  "nbformat_minor": 0,
  "metadata": {
    "colab": {
      "provenance": [],
      "authorship_tag": "ABX9TyPdCaJQdf0vM3ZwoltoEhEL",
      "include_colab_link": true
    },
    "kernelspec": {
      "name": "python3",
      "display_name": "Python 3"
    },
    "language_info": {
      "name": "python"
    }
  },
  "cells": [
    {
      "cell_type": "markdown",
      "metadata": {
        "id": "view-in-github",
        "colab_type": "text"
      },
      "source": [
        "<a href=\"https://colab.research.google.com/github/subashini092/NLP/blob/main/Gemini_AI_Image.ipynb\" target=\"_parent\"><img src=\"https://colab.research.google.com/assets/colab-badge.svg\" alt=\"Open In Colab\"/></a>"
      ]
    },
    {
      "cell_type": "code",
      "execution_count": 4,
      "metadata": {
        "id": "tzQSHLeZ9mUX"
      },
      "outputs": [],
      "source": [
        "import google.generativeai as genai\n",
        "from google.colab import userdata\n",
        "\n",
        "GOOGLE_API_KEY=userdata.get('GOOGLE_API_KEY')\n",
        "genai.configure(api_key=GOOGLE_API_KEY)"
      ]
    },
    {
      "cell_type": "code",
      "source": [
        "import pathlib\n",
        "import textwrap\n",
        "from IPython.display import display, Markdown\n",
        "def to_markdown(text):\n",
        "  text = text.replace('•', '  *')\n",
        "  return Markdown(textwrap.indent(text, '> ', predicate=lambda _: True))"
      ],
      "metadata": {
        "id": "nsol_lLT-KQ1"
      },
      "execution_count": 7,
      "outputs": []
    },
    {
      "cell_type": "code",
      "source": [
        "import PIL.Image\n",
        "img = PIL.Image.open('/content/Image20250311124054.jpg')\n",
        "img\n",
        "model = genai.GenerativeModel('gemini-1.5-flash')\n",
        "response = model.generate_content([\"Write a short, engaging blog post based on this picture. It should include a description of the meal in the photo and talk about my journey meal prepping.\", img],\n",
        "stream=True)\n",
        "response.resolve()"
      ],
      "metadata": {
        "id": "t4tGMtBJCe_R"
      },
      "execution_count": 14,
      "outputs": []
    },
    {
      "cell_type": "code",
      "source": [
        "response = model.generate_content([\"Generate an accuarte caption for this image.\", img])\n",
        "print(response.text)\n"
      ],
      "metadata": {
        "colab": {
          "base_uri": "https://localhost:8080/",
          "height": 399
        },
        "id": "2TqRKPoAC6hT",
        "outputId": "52a5038b-fef8-48ba-d316-538c5aacf5ee"
      },
      "execution_count": 15,
      "outputs": [
        {
          "output_type": "stream",
          "name": "stdout",
          "text": [
            "Here are a few caption options for the image:\n",
            "\n",
            "**Option 1 (Simple & Descriptive):**\n",
            "\n",
            "> Healthy and delicious meal prep!  Chicken and broccoli with rice and carrots.\n",
            "\n",
            "**Option 2 (More Engaging):**\n",
            "\n",
            "> Lunch goals!  These prepped meals are packed with protein and veggies.  Ready for a busy week. #mealprep #healthyfood #lunchideas\n",
            "\n",
            "**Option 3 (Focus on Convenience):**\n",
            "\n",
            "> Easy and healthy dinners made simple.  Meal prepping doesn't have to be hard!\n",
            "\n",
            "\n",
            "**Option 4 (Question to Engage Audience):**\n",
            "\n",
            "> What's your favorite healthy meal prep recipe?  These chicken and veggie bowls are a current favorite! #mealprepsunday #healthylifestyle\n",
            "\n",
            "\n",
            "Choose the caption that best suits your intended audience and platform.\n",
            "\n"
          ]
        }
      ]
    },
    {
      "cell_type": "code",
      "source": [
        "from PIL import Image\n",
        "image_path = ('/content/Image20250311124912.jpg')\n",
        "image = Image.open(image_path)\n",
        "response = model.generate_content([\"Describe this image in detail.\", image])\n",
        "print(response.text)"
      ],
      "metadata": {
        "colab": {
          "base_uri": "https://localhost:8080/",
          "height": 297
        },
        "id": "ECyOQcHWD98S",
        "outputId": "15aeebc6-aafd-4165-8746-f46b14b1f307"
      },
      "execution_count": 19,
      "outputs": [
        {
          "output_type": "stream",
          "name": "stdout",
          "text": [
            "Here's a description of the image:\n",
            "\n",
            "Close-up view of a woman with shoulder-length, curly brown hair. \n",
            "\n",
            "\n",
            "Here's a breakdown of the details:\n",
            "\n",
            "* **The Woman:** She appears to be of South Asian descent, with warm brown skin. She's smiling pleasantly and gesturing with her right index finger, as if pointing to something off-camera or making a suggestion. Her expression is friendly and approachable. She has dark eyes and eyebrows.  She's wearing small earrings.\n",
            "\n",
            "* **Her Clothing:** She's wearing a teal or turquoise three-quarter-sleeved kurta (a traditional South Asian top) with a subtle gold or light-colored print all over it. The pattern is fairly small and repetitive, possibly floral or paisley-inspired. The kurta has a simple neckline and a button or closure near the collarbone.\n",
            "\n",
            "* **The Background:** The background is a plain, bright white, which keeps the focus entirely on the woman.\n",
            "\n",
            "* **Overall Impression:** The image is bright, well-lit, and professionally shot. The woman's pose and expression convey a sense of friendliness, confidence, and perhaps helpfulness. It could be a portrait for a website, advertisement, or other professional context.\n",
            "\n"
          ]
        }
      ]
    },
    {
      "cell_type": "code",
      "source": [
        "response = model.generate_content([\"What emotions can you detect in this image?\", image])\n",
        "print(response.text)"
      ],
      "metadata": {
        "colab": {
          "base_uri": "https://localhost:8080/",
          "height": 176
        },
        "id": "ZYf8j911FFoC",
        "outputId": "c524b834-761b-445d-ab80-67a46f21cc16"
      },
      "execution_count": 20,
      "outputs": [
        {
          "output_type": "stream",
          "name": "stdout",
          "text": [
            "The woman in the image appears to be expressing a combination of emotions:\n",
            "\n",
            "* **Happiness/Positivity:** Her smile is genuine and bright, suggesting a positive emotional state.\n",
            "* **Helpfulness/Guidance:** The gesture of pointing suggests she's offering information or direction, indicating a helpful and potentially guiding intention.  \n",
            "* **Confidence/Assurance:** Her posture and direct gaze add to an overall impression of confidence.\n",
            "\n",
            "There's no indication of negative emotions in the image.  The overall expression is one of cheerful helpfulness.\n",
            "\n"
          ]
        }
      ]
    },
    {
      "cell_type": "code",
      "source": [
        "response = model.generate_content([\"What ths dress colour?\", image])\n",
        "print(response.text)"
      ],
      "metadata": {
        "colab": {
          "base_uri": "https://localhost:8080/",
          "height": 34
        },
        "id": "LZy1bKEgF033",
        "outputId": "dd657a5a-6e03-4075-f4cf-4e6642630f32"
      },
      "execution_count": 21,
      "outputs": [
        {
          "output_type": "stream",
          "name": "stdout",
          "text": [
            "The dress is teal or turquoise blue with a gold pattern.\n"
          ]
        }
      ]
    },
    {
      "cell_type": "code",
      "source": [],
      "metadata": {
        "id": "YUfPxwOqF9Kz"
      },
      "execution_count": null,
      "outputs": []
    }
  ]
}