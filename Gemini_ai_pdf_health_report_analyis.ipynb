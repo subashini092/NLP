{
  "nbformat": 4,
  "nbformat_minor": 0,
  "metadata": {
    "colab": {
      "provenance": [],
      "authorship_tag": "ABX9TyO10RMEbwQ+veiTgM/KQRaT",
      "include_colab_link": true
    },
    "kernelspec": {
      "name": "python3",
      "display_name": "Python 3"
    },
    "language_info": {
      "name": "python"
    }
  },
  "cells": [
    {
      "cell_type": "markdown",
      "metadata": {
        "id": "view-in-github",
        "colab_type": "text"
      },
      "source": [
        "<a href=\"https://colab.research.google.com/github/subashini092/NLP/blob/main/Gemini_ai_pdf_health_report_analyis.ipynb\" target=\"_parent\"><img src=\"https://colab.research.google.com/assets/colab-badge.svg\" alt=\"Open In Colab\"/></a>"
      ]
    },
    {
      "cell_type": "code",
      "execution_count": 6,
      "metadata": {
        "id": "L2qxgp2cgmgh"
      },
      "outputs": [],
      "source": [
        "import google.generativeai as genai\n",
        "from google.colab import userdata\n",
        "\n",
        "GOOGLE_API_KEY=userdata.get('GOOGLE_API_KEY')\n",
        "genai.configure(api_key=GOOGLE_API_KEY)"
      ]
    },
    {
      "cell_type": "code",
      "source": [
        "pip install PyPDF2"
      ],
      "metadata": {
        "colab": {
          "base_uri": "https://localhost:8080/"
        },
        "id": "_dFV3OAUg1ox",
        "outputId": "8ec35663-9ca6-4b67-9597-aba1ae04e28e"
      },
      "execution_count": 7,
      "outputs": [
        {
          "output_type": "stream",
          "name": "stdout",
          "text": [
            "Requirement already satisfied: PyPDF2 in /usr/local/lib/python3.11/dist-packages (3.0.1)\n"
          ]
        }
      ]
    },
    {
      "cell_type": "code",
      "source": [
        "import PyPDF2\n",
        "\n",
        "def extract_text_from_pdf(pdf_path):\n",
        "  \"\"\"Extracts text from a given health report PDF using PyPDF2\"\"\"\n",
        "  text=\"\"\n",
        "  with open (pdf_path, \"rb\") as file:\n",
        "    reader = pyPDF2.PdfReader(file)\n",
        "    for page in reader.pages:\n",
        "      text += page.extract_text() + \"\\n\"\n",
        "\n",
        "  return text"
      ],
      "metadata": {
        "id": "_fZwV2zrh9Wj"
      },
      "execution_count": 8,
      "outputs": []
    },
    {
      "cell_type": "code",
      "source": [
        "def extract_health_insights(text):\n",
        "  \"\"\" ASks Gemini AI to extract key medical insights feom the report.\"\"\"\n",
        "  model = genai.GenerativeModel(\"gemini-1.5-flash\")\n",
        "  prompt = f\"Extract key insights from the following health report:\\n\\n{text}\"\n",
        "  response = model.generate_content(prompt)\n",
        "  return response.text\n",
        "\n",
        "\n",
        "pdf_file = \"/content/health_report.pdf\"\n",
        "extracted_text = extract_text_from_pdf(pdf_file)\n",
        "insights = extract_health_insights(extracted_text)\n",
        "print(\"Key Insights:\\n\", insights)"
      ],
      "metadata": {
        "colab": {
          "base_uri": "https://localhost:8080/",
          "height": 523
        },
        "id": "_4YSzasTkFJP",
        "outputId": "d641019e-b08c-4003-9d3d-0b7593006686"
      },
      "execution_count": 16,
      "outputs": [
        {
          "output_type": "stream",
          "name": "stdout",
          "text": [
            "Key Insights:\n",
            " The report shows test results for Mr. Kishan Goud (MR2100003157) on 01/02/2021.  Key insights include:\n",
            "\n",
            "**Positive Findings:**\n",
            "\n",
            "* **Elevated Erythrocyte Sedimentation Rate (ESR):**  ESR of 26 mm/hr (1st hour) and 52 mm/hr (2nd hour). This is significantly higher than the reference range (0-8 mm/hr for the first hour), suggesting inflammation in the body.  Further investigation is needed to determine the cause.\n",
            "\n",
            "**Negative Findings:**\n",
            "\n",
            "* **No evidence of Typhoid:** While the Widal test showed some antibodies, they are not significantly elevated above the reference range to confirm an active typhoid infection.  S. Typhi \"O\" 1:160, S. Typhi \"H\" 1:80 are higher than reference (1:20) but not definitively positive.\n",
            "* **No evidence of Dengue:** Dengue NS1 antigen, IgG, and IgM tests were all negative.\n",
            "* **No evidence of Malaria:** Rapid Malaria tests for Plasmodium vivax (P.V) and Plasmodium falciparum (P.F) were both negative.\n",
            "\n",
            "\n",
            "**Other Lab Values:**\n",
            "\n",
            "* **Complete Blood Count (CBC):**  All values are within normal limits, including hemoglobin, RBC, WBC, platelets, and differential counts.\n",
            "* **HbA1c:**  5.4%, within the normal non-diabetic range (4-6%).  Indicates good blood sugar control.\n",
            "* **Serum Creatinine:** 0.8 mg/dl, within the normal range (0.6 - 1.25 mg/dl).  Indicates normal kidney function.\n",
            "* **Random Blood Glucose:**  The report is missing the actual value; only the reference range (60-170 mg/dl) is shown.\n",
            "* **Liver Function Tests (LFTs):**  All values (bilirubin, alkaline phosphatase, SGOT, SGPT, total protein, albumin, globulin, A/G ratio) are within the normal ranges.\n",
            "* **Serum Electrolytes:** Sodium (122 mmol/l) is slightly below the normal range (135-146 mmol/l). Potassium and Chloride are within the normal range.\n",
            "\n",
            "\n",
            "**Overall:**\n",
            "\n",
            "The most significant finding is the elevated ESR, indicating inflammation.  While the Widal test results are not conclusive for typhoid, further investigation into the cause of the elevated ESR is warranted.  The other test results are largely unremarkable, showing no evidence of dengue, malaria, or significant issues with kidney, liver, or blood sugar control. The slightly low serum sodium warrants review and consideration within the context of the patient's overall clinical presentation.\n",
            "\n"
          ]
        }
      ]
    },
    {
      "cell_type": "code",
      "source": [
        "def summarize_health_report(text):\n",
        "  \"\"\"Summarizes the health report using Gemini AI.\"\"\"\n",
        "  model = genai.GenerativeModel(\"gemini-1.5-flash\")\n",
        "  prompt = f\"Summarize the following health report in a concise manner:\\n\\n{text}\"\n",
        "  response = model.generate_content(prompt)\n",
        "  return response.text\n",
        "\n",
        "summary = summarize_health_report(extracted_text)\n",
        "print(\"Summary:\\n\", summary)"
      ],
      "metadata": {
        "colab": {
          "base_uri": "https://localhost:8080/",
          "height": 315
        },
        "id": "8mlK9XikldNB",
        "outputId": "714a1d2d-f8bc-40f8-e42a-167a70082796"
      },
      "execution_count": 18,
      "outputs": [
        {
          "output_type": "stream",
          "name": "stdout",
          "text": [
            "Summary:\n",
            " Mr. Kishan Goud's (MR2100003157) blood tests on 01/02/2021 showed:\n",
            "\n",
            "* **Widal Test:** Elevated titers for *Salmonella Typhi* \"O\" (1:160) and \"H\" (1:80), suggesting possible typhoid fever.  Paratyphoid titers were within normal range.\n",
            "* **Dengue Serology:** Negative for NS1 antigen, IgG, and IgM antibodies.\n",
            "* **ESR:** Elevated (26 mm/hr 1st hour, 52 mm/hr 2nd hour), indicating inflammation.\n",
            "* **Malaria Test:** Negative for *Plasmodium falciparum* and *Plasmodium vivax*.\n",
            "* **Complete Blood Picture:**  Hemoglobin, RBC, WBC, and platelets within normal ranges. Differential count also within normal limits.\n",
            "* **HbA1c:** 5.4% (within normal non-diabetic range).\n",
            "* **Serum Creatinine:** 0.8 mg/dl (within normal range).\n",
            "* **Random Blood Glucose:**  Result not provided.\n",
            "* **Liver Function Tests:** All values within normal ranges.\n",
            "* **Serum Electrolytes:** Sodium (122 mmol/l) slightly low, potassium and chloride within normal ranges.\n",
            "\n",
            "Overall, the results suggest possible typhoid fever given the Widal test results, and inflammation indicated by the ESR.  Further investigation may be needed.\n",
            "\n"
          ]
        }
      ]
    },
    {
      "cell_type": "code",
      "source": [
        "def detect_abnormalities(text):\n",
        "  \"\"\"Analyzes lab test results and flags abnormal values.\"\"\"\n",
        "  model = genai.GenerativeModel(\"gemini-1.5-flash\")\n",
        "  prompt = f\"Analysis the lab test results in the following health report and highlight any abnormal_values:\\n\\n{text}\"\n",
        "  response = model.generate_content(prompt)\n",
        "  return response.text\n",
        "\n",
        "abnormalities = detect_abnormalities(extracted_text)\n",
        "print(\"Potential Abnormalities:\\n\", abnormalities)"
      ],
      "metadata": {
        "colab": {
          "base_uri": "https://localhost:8080/",
          "height": 384
        },
        "id": "w_eb25EFm3OB",
        "outputId": "2b964c9e-f6f5-4bb5-f23e-058f787bb799"
      },
      "execution_count": 26,
      "outputs": [
        {
          "output_type": "stream",
          "name": "stdout",
          "text": [
            "Potential Abnormalities:\n",
            " Based on the provided lab results, the following values fall outside the biological reference ranges and are considered abnormal:\n",
            "\n",
            "* **WIDAL Test:**  S. Typhi \"O\" (1:160) and S. Typhi \"H\" (1:80) are significantly higher than the reference range of 1:20. This suggests a possible past or current infection with *Salmonella Typhi*,  the bacteria that causes typhoid fever.  Further investigation and clinical correlation are necessary.\n",
            "\n",
            "* **ESR (Erythrocyte Sedimentation Rate):**  Both the 1st hour (26 mm/hr) and 2nd hour (52 mm/hr) values are elevated above the normal range of 0-8 mm/hr for the first hour. This indicates inflammation in the body. The cause needs further investigation.\n",
            "\n",
            "* **Serum Sodium:** 122 mmol/l is below the reference range of 135-146 mmol/l. This indicates hyponatremia (low sodium levels in the blood).  This is a significant finding and requires medical attention.\n",
            "\n",
            "* **Serum Chloride:** 97 mmol/l is below the reference range of 98-107 mmol/l.  This is hypochloremia (low chloride levels) and should be investigated further in the context of the hyponatremia.\n",
            "\n",
            "\n",
            "**Values that are slightly outside the range but may not be clinically significant without further context:**\n",
            "\n",
            "* **Lymphocytes:** 31% is at the upper end of the reference range (20-40%).  While within the range, it could be a minor deviation depending on the overall clinical picture.\n",
            "\n",
            "All other test results are within the normal ranges.\n",
            "\n",
            "**Important Note:**  This analysis is for informational purposes only and should not be considered a diagnosis.  The interpretation of these lab results requires clinical correlation with the patient's symptoms, medical history, and physical examination by a qualified healthcare professional.  The significantly low sodium and chloride levels warrant prompt medical attention.\n",
            "\n"
          ]
        }
      ]
    },
    {
      "cell_type": "code",
      "source": [
        "def explain_medical_terms(text):\n",
        "    \"\"\"Asks Gemini AI to simplify medical terms for patient understanding.\"\"\"\n",
        "    model = genai.GenerativeModel(\"gemini-1.5-flash\")\n",
        "    prompt = f\"Translate the medical terms in the following health report into simple language:\\n\\n{text}\"\n",
        "    response = model.generate_content(prompt)\n",
        "    return response.text\n",
        "\n",
        "explanation = explain_medical_terms(extracted_text)\n",
        "print(\"Simplified Explanation:\\n\", explanation)"
      ],
      "metadata": {
        "colab": {
          "base_uri": "https://localhost:8080/",
          "height": 714
        },
        "id": "sBeYcOz1qyqH",
        "outputId": "6b94d14e-e23c-424b-9ddd-00b3dd65e18c"
      },
      "execution_count": 27,
      "outputs": [
        {
          "output_type": "stream",
          "name": "stdout",
          "text": [
            "Simplified Explanation:\n",
            " This report shows the results of several blood tests performed on Mr. Kishan Goud on February 1st, 2021.  Here's a simplified explanation:\n",
            "\n",
            "**1. WIDAL Test (for Typhoid):**  This test checks for antibodies to typhoid fever.  The results show elevated levels of antibodies to *Salmonella Typhi* (O and H antigens), suggesting *possible* past or present typhoid infection.  However, the Paratyphoid A and B results are within the normal range.  Further investigation may be needed to confirm.\n",
            "\n",
            "**2. Dengue Serology:** This test checks for dengue fever. The results are negative for dengue NS1 antigen, IgG, and IgM antibodies, meaning no evidence of current or past dengue infection was found.\n",
            "\n",
            "**3. Erythrocyte Sedimentation Rate (ESR):** This test measures how quickly red blood cells settle in a tube.  The results (26 mm/hr and 52 mm/hr) are elevated, suggesting possible inflammation or infection in the body.\n",
            "\n",
            "**4. Rapid Malaria Test:** This test for malaria parasites was negative for both *Plasmodium vivax* (P.V) and *Plasmodium falciparum* (P.F), indicating no malaria infection.\n",
            "\n",
            "**5. Complete Blood Picture (CBC):** This is a comprehensive blood count.\n",
            "\n",
            "* **Hemoglobin (Hb):**  13.6 g/dL (normal). This measures the oxygen-carrying capacity of red blood cells.\n",
            "* **Red Blood Cells (RBC):** 4.3 million/µL (slightly low, but within the normal range for some).\n",
            "* **White Blood Cells (WBC):** 7,200 cells/µL (normal). These fight infection.\n",
            "* **Platelets:** 200,000/µL (normal).  These help with blood clotting.\n",
            "* **Packed Cell Volume (PCV):** 40.5% (normal). This is the percentage of red blood cells in the blood.\n",
            "* **Differential Count:** This breaks down the types of white blood cells. All types are within the normal range.\n",
            "* **Peripheral Blood Smear:**  Microscopic examination of blood showing normal red blood cells, normal white blood cell count, and adequate platelets.\n",
            "\n",
            "\n",
            "**6. HbA1c:** This test measures average blood sugar levels over the past 2-3 months. The result (5.4%) is within the normal range for someone who doesn't have diabetes.\n",
            "\n",
            "**7. Serum Creatinine:** This measures kidney function. The result (0.8 mg/dL) is within the normal range.\n",
            "\n",
            "**8. Random Blood Glucose:** This measures blood sugar level at a random time. The result is not provided in the report, only the reference range of 60-170 mg/dL.\n",
            "\n",
            "**9. Liver Function Test (LFT):**  These tests assess liver health. All results are within the normal range, indicating good liver function.  (Total Bilirubin, Direct Bilirubin, Indirect Bilirubin, Alkaline Phosphatase, SGOT, SGPT, Total Protein, Albumin, Globulin, A/G Ratio).\n",
            "\n",
            "**10. Serum Electrolytes:** These tests measure the levels of essential minerals in the blood.\n",
            "\n",
            "* **Sodium:** 122 mmol/L (slightly low).\n",
            "* **Potassium:** 3.5 mmol/L (normal, lower end of the range).\n",
            "* **Chloride:** 97 mmol/L (slightly low).\n",
            "\n",
            "\n",
            "**Important Note:** This is a simplified interpretation.  The slightly low sodium and chloride levels and the elevated ESR warrant further investigation and should be discussed with the doctor. The slightly elevated Widal test requires further clinical correlation to ascertain the significance.  The results should be interpreted in the context of Mr. Kishan Goud's overall clinical picture and other medical history by his physician, Dr. Krishna Prasad.  This information is for educational purposes only and should not be considered medical advice.\n",
            "\n"
          ]
        }
      ]
    },
    {
      "cell_type": "code",
      "source": [
        "def ask_gemini_about_report(text, question):\n",
        "    \"\"\"Allows users to ask questions about their health report.\"\"\"\n",
        "    model = genai.GenerativeModel(\"gemini-1.5-flash\")\n",
        "    prompt = f\"The following is a health report:\\n\\n{text}\\n\\nAnswer the following question based on the report:\\n{question}\"\n",
        "    response = model.generate_content(prompt)\n",
        "    return response.text\n",
        "\n",
        "question = \"What is the patient's diagnosis?\"\n",
        "answer = ask_gemini_about_report(extracted_text, question)\n",
        "print(\"Answer:\\n\", answer)"
      ],
      "metadata": {
        "colab": {
          "base_uri": "https://localhost:8080/",
          "height": 89
        },
        "id": "r9_QZB0rqzpN",
        "outputId": "0fc0b685-2e9b-4086-999d-a228d23c483d"
      },
      "execution_count": 28,
      "outputs": [
        {
          "output_type": "stream",
          "name": "stdout",
          "text": [
            "Answer:\n",
            " The provided lab report does not offer a diagnosis.  It presents the results of various tests, some showing values outside the normal range (e.g., elevated ESR), but these results alone are insufficient to establish a diagnosis.  A diagnosis requires clinical evaluation by a physician, considering the patient's symptoms, medical history, and these test results in context.\n",
            "\n"
          ]
        }
      ]
    },
    {
      "cell_type": "code",
      "source": [],
      "metadata": {
        "id": "OIkmWOMVrXWk"
      },
      "execution_count": null,
      "outputs": []
    }
  ]
}